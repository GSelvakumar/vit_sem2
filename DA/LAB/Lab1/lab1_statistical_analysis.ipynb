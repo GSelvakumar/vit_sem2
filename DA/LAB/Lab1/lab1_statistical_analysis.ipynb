{
 "cells": [
  {
   "cell_type": "markdown",
   "metadata": {},
   "source": [
    "#### Imports"
   ]
  },
  {
   "cell_type": "code",
   "execution_count": 3,
   "metadata": {},
   "outputs": [],
   "source": [
    "import pandas as pd\n",
    "import numpy as np"
   ]
  },
  {
   "cell_type": "markdown",
   "metadata": {},
   "source": [
    "#### Load Dataset\n",
    "\n",
    "The dataset is collected from Centers of Disease control and prevention [data.cdc.gov](https://www.cdc.gov/) under the category of [Vaccination Coverage among Pregnancy Women](https://data.cdc.gov/Pregnancy-Vaccination/Vaccination-Coverage-among-Pregnant-Women/h7pm-wmjc/data)"
   ]
  },
  {
   "cell_type": "code",
   "execution_count": 4,
   "metadata": {},
   "outputs": [],
   "source": [
    "# Read the data\n",
    "data = pd.read_csv('Vaccination_Coverage_among_Pregnant_Women.csv')"
   ]
  },
  {
   "cell_type": "code",
   "execution_count": 5,
   "metadata": {},
   "outputs": [
    {
     "data": {
      "text/plain": [
       "Index(['Vaccine', 'Geography Type', 'Geography',\n",
       "       'Survey Year/Influenza Season', 'Dimension Type', 'Dimension',\n",
       "       'Estimate (%)', '95% CI (%)', 'Sample Size'],\n",
       "      dtype='object')"
      ]
     },
     "execution_count": 5,
     "metadata": {},
     "output_type": "execute_result"
    }
   ],
   "source": [
    "# Display Features\n",
    "data.columns"
   ]
  },
  {
   "cell_type": "code",
   "execution_count": 6,
   "metadata": {},
   "outputs": [
    {
     "data": {
      "text/html": [
       "<div>\n",
       "<style scoped>\n",
       "    .dataframe tbody tr th:only-of-type {\n",
       "        vertical-align: middle;\n",
       "    }\n",
       "\n",
       "    .dataframe tbody tr th {\n",
       "        vertical-align: top;\n",
       "    }\n",
       "\n",
       "    .dataframe thead th {\n",
       "        text-align: right;\n",
       "    }\n",
       "</style>\n",
       "<table border=\"1\" class=\"dataframe\">\n",
       "  <thead>\n",
       "    <tr style=\"text-align: right;\">\n",
       "      <th></th>\n",
       "      <th>Vaccine</th>\n",
       "      <th>Geography Type</th>\n",
       "      <th>Geography</th>\n",
       "      <th>Survey Year/Influenza Season</th>\n",
       "      <th>Dimension Type</th>\n",
       "      <th>Dimension</th>\n",
       "      <th>Estimate (%)</th>\n",
       "      <th>95% CI (%)</th>\n",
       "      <th>Sample Size</th>\n",
       "    </tr>\n",
       "  </thead>\n",
       "  <tbody>\n",
       "    <tr>\n",
       "      <th>0</th>\n",
       "      <td>Influenza</td>\n",
       "      <td>States</td>\n",
       "      <td>Alaska</td>\n",
       "      <td>2012</td>\n",
       "      <td>Age</td>\n",
       "      <td>≥18 Years</td>\n",
       "      <td>49.2</td>\n",
       "      <td>45.3 to 53.1</td>\n",
       "      <td>852.0</td>\n",
       "    </tr>\n",
       "    <tr>\n",
       "      <th>1</th>\n",
       "      <td>Influenza</td>\n",
       "      <td>States</td>\n",
       "      <td>Arkansas</td>\n",
       "      <td>2012</td>\n",
       "      <td>Age</td>\n",
       "      <td>≥18 Years</td>\n",
       "      <td>46.6</td>\n",
       "      <td>40.7 to 52.5</td>\n",
       "      <td>756.0</td>\n",
       "    </tr>\n",
       "    <tr>\n",
       "      <th>2</th>\n",
       "      <td>Influenza</td>\n",
       "      <td>States</td>\n",
       "      <td>Colorado</td>\n",
       "      <td>2012</td>\n",
       "      <td>Age</td>\n",
       "      <td>≥18 Years</td>\n",
       "      <td>56.1</td>\n",
       "      <td>52.1 to 60.0</td>\n",
       "      <td>1170.0</td>\n",
       "    </tr>\n",
       "    <tr>\n",
       "      <th>3</th>\n",
       "      <td>Influenza</td>\n",
       "      <td>States</td>\n",
       "      <td>Delaware</td>\n",
       "      <td>2012</td>\n",
       "      <td>Age</td>\n",
       "      <td>≥18 Years</td>\n",
       "      <td>41.6</td>\n",
       "      <td>38.4 to 44.8</td>\n",
       "      <td>981.0</td>\n",
       "    </tr>\n",
       "    <tr>\n",
       "      <th>4</th>\n",
       "      <td>Influenza</td>\n",
       "      <td>States</td>\n",
       "      <td>Georgia</td>\n",
       "      <td>2012</td>\n",
       "      <td>Age</td>\n",
       "      <td>≥18 Years</td>\n",
       "      <td>33.6</td>\n",
       "      <td>29.6 to 37.7</td>\n",
       "      <td>1007.0</td>\n",
       "    </tr>\n",
       "    <tr>\n",
       "      <th>...</th>\n",
       "      <td>...</td>\n",
       "      <td>...</td>\n",
       "      <td>...</td>\n",
       "      <td>...</td>\n",
       "      <td>...</td>\n",
       "      <td>...</td>\n",
       "      <td>...</td>\n",
       "      <td>...</td>\n",
       "      <td>...</td>\n",
       "    </tr>\n",
       "    <tr>\n",
       "      <th>4132</th>\n",
       "      <td>Tdap</td>\n",
       "      <td>States</td>\n",
       "      <td>Utah</td>\n",
       "      <td>2020</td>\n",
       "      <td>Race/Ethnicity</td>\n",
       "      <td>White, Non-Hispanic</td>\n",
       "      <td>80.1</td>\n",
       "      <td>77.0 to 83.0</td>\n",
       "      <td>979.0</td>\n",
       "    </tr>\n",
       "    <tr>\n",
       "      <th>4133</th>\n",
       "      <td>Tdap</td>\n",
       "      <td>States</td>\n",
       "      <td>Vermont</td>\n",
       "      <td>2020</td>\n",
       "      <td>Race/Ethnicity</td>\n",
       "      <td>White, Non-Hispanic</td>\n",
       "      <td>86.4</td>\n",
       "      <td>83.6 to 88.9</td>\n",
       "      <td>696.0</td>\n",
       "    </tr>\n",
       "    <tr>\n",
       "      <th>4134</th>\n",
       "      <td>Tdap</td>\n",
       "      <td>States</td>\n",
       "      <td>Virginia</td>\n",
       "      <td>2020</td>\n",
       "      <td>Race/Ethnicity</td>\n",
       "      <td>White, Non-Hispanic</td>\n",
       "      <td>83.1</td>\n",
       "      <td>76.9 to 88.2</td>\n",
       "      <td>503.0</td>\n",
       "    </tr>\n",
       "    <tr>\n",
       "      <th>4135</th>\n",
       "      <td>Tdap</td>\n",
       "      <td>States</td>\n",
       "      <td>Washington</td>\n",
       "      <td>2020</td>\n",
       "      <td>Race/Ethnicity</td>\n",
       "      <td>White, Non-Hispanic</td>\n",
       "      <td>80.9</td>\n",
       "      <td>76.2 to 85.0</td>\n",
       "      <td>352.0</td>\n",
       "    </tr>\n",
       "    <tr>\n",
       "      <th>4136</th>\n",
       "      <td>Tdap</td>\n",
       "      <td>States</td>\n",
       "      <td>Wisconsin</td>\n",
       "      <td>2020</td>\n",
       "      <td>Race/Ethnicity</td>\n",
       "      <td>White, Non-Hispanic</td>\n",
       "      <td>82.8</td>\n",
       "      <td>78.4 to 86.7</td>\n",
       "      <td>364.0</td>\n",
       "    </tr>\n",
       "  </tbody>\n",
       "</table>\n",
       "<p>4137 rows × 9 columns</p>\n",
       "</div>"
      ],
      "text/plain": [
       "        Vaccine Geography Type   Geography  Survey Year/Influenza Season  \\\n",
       "0     Influenza         States      Alaska                          2012   \n",
       "1     Influenza         States    Arkansas                          2012   \n",
       "2     Influenza         States    Colorado                          2012   \n",
       "3     Influenza         States    Delaware                          2012   \n",
       "4     Influenza         States     Georgia                          2012   \n",
       "...         ...            ...         ...                           ...   \n",
       "4132       Tdap         States        Utah                          2020   \n",
       "4133       Tdap         States     Vermont                          2020   \n",
       "4134       Tdap         States    Virginia                          2020   \n",
       "4135       Tdap         States  Washington                          2020   \n",
       "4136       Tdap         States   Wisconsin                          2020   \n",
       "\n",
       "       Dimension Type            Dimension Estimate (%)    95% CI (%)  \\\n",
       "0                 Age            ≥18 Years         49.2  45.3 to 53.1   \n",
       "1                 Age            ≥18 Years         46.6  40.7 to 52.5   \n",
       "2                 Age            ≥18 Years         56.1  52.1 to 60.0   \n",
       "3                 Age            ≥18 Years         41.6  38.4 to 44.8   \n",
       "4                 Age            ≥18 Years         33.6  29.6 to 37.7   \n",
       "...               ...                  ...          ...           ...   \n",
       "4132  Race/Ethnicity   White, Non-Hispanic         80.1  77.0 to 83.0   \n",
       "4133  Race/Ethnicity   White, Non-Hispanic         86.4  83.6 to 88.9   \n",
       "4134  Race/Ethnicity   White, Non-Hispanic         83.1  76.9 to 88.2   \n",
       "4135  Race/Ethnicity   White, Non-Hispanic         80.9  76.2 to 85.0   \n",
       "4136  Race/Ethnicity   White, Non-Hispanic         82.8  78.4 to 86.7   \n",
       "\n",
       "      Sample Size  \n",
       "0           852.0  \n",
       "1           756.0  \n",
       "2          1170.0  \n",
       "3           981.0  \n",
       "4          1007.0  \n",
       "...           ...  \n",
       "4132        979.0  \n",
       "4133        696.0  \n",
       "4134        503.0  \n",
       "4135        352.0  \n",
       "4136        364.0  \n",
       "\n",
       "[4137 rows x 9 columns]"
      ]
     },
     "execution_count": 6,
     "metadata": {},
     "output_type": "execute_result"
    }
   ],
   "source": [
    "# Display Values\n",
    "data"
   ]
  },
  {
   "cell_type": "code",
   "execution_count": 7,
   "metadata": {},
   "outputs": [
    {
     "data": {
      "text/plain": [
       "(4137, 9)"
      ]
     },
     "execution_count": 7,
     "metadata": {},
     "output_type": "execute_result"
    }
   ],
   "source": [
    "# Display Dimension\n",
    "data.shape"
   ]
  },
  {
   "cell_type": "code",
   "execution_count": 8,
   "metadata": {},
   "outputs": [
    {
     "name": "stdout",
     "output_type": "stream",
     "text": [
      "<class 'pandas.core.frame.DataFrame'>\n",
      "RangeIndex: 4137 entries, 0 to 4136\n",
      "Data columns (total 9 columns):\n",
      " #   Column                        Non-Null Count  Dtype  \n",
      "---  ------                        --------------  -----  \n",
      " 0   Vaccine                       4137 non-null   object \n",
      " 1   Geography Type                4137 non-null   object \n",
      " 2   Geography                     4137 non-null   object \n",
      " 3   Survey Year/Influenza Season  4137 non-null   int64  \n",
      " 4   Dimension Type                4137 non-null   object \n",
      " 5   Dimension                     4137 non-null   object \n",
      " 6   Estimate (%)                  4137 non-null   object \n",
      " 7   95% CI (%)                    4137 non-null   object \n",
      " 8   Sample Size                   3933 non-null   float64\n",
      "dtypes: float64(1), int64(1), object(7)\n",
      "memory usage: 291.0+ KB\n"
     ]
    }
   ],
   "source": [
    "# Display Information\n",
    "data.info()"
   ]
  },
  {
   "cell_type": "code",
   "execution_count": 9,
   "metadata": {},
   "outputs": [
    {
     "data": {
      "text/plain": [
       "Influenza    2891\n",
       "Tdap         1246\n",
       "Name: Vaccine, dtype: int64"
      ]
     },
     "execution_count": 9,
     "metadata": {},
     "output_type": "execute_result"
    }
   ],
   "source": [
    "# Display the Unique values\n",
    "data['Vaccine'].value_counts()"
   ]
  },
  {
   "cell_type": "code",
   "execution_count": 10,
   "metadata": {},
   "outputs": [
    {
     "data": {
      "text/html": [
       "<div>\n",
       "<style scoped>\n",
       "    .dataframe tbody tr th:only-of-type {\n",
       "        vertical-align: middle;\n",
       "    }\n",
       "\n",
       "    .dataframe tbody tr th {\n",
       "        vertical-align: top;\n",
       "    }\n",
       "\n",
       "    .dataframe thead th {\n",
       "        text-align: right;\n",
       "    }\n",
       "</style>\n",
       "<table border=\"1\" class=\"dataframe\">\n",
       "  <thead>\n",
       "    <tr style=\"text-align: right;\">\n",
       "      <th></th>\n",
       "      <th>Vaccine</th>\n",
       "      <th>Geography Type</th>\n",
       "      <th>Geography</th>\n",
       "      <th>Survey Year/Influenza Season</th>\n",
       "      <th>Dimension Type</th>\n",
       "      <th>Dimension</th>\n",
       "      <th>Estimate (%)</th>\n",
       "      <th>95% CI (%)</th>\n",
       "      <th>Sample Size</th>\n",
       "    </tr>\n",
       "  </thead>\n",
       "  <tbody>\n",
       "    <tr>\n",
       "      <th>0</th>\n",
       "      <td>Influenza</td>\n",
       "      <td>States</td>\n",
       "      <td>Alaska</td>\n",
       "      <td>2012</td>\n",
       "      <td>Age</td>\n",
       "      <td>≥18 Years</td>\n",
       "      <td>49.2</td>\n",
       "      <td>45.3 to 53.1</td>\n",
       "      <td>852.0</td>\n",
       "    </tr>\n",
       "    <tr>\n",
       "      <th>1</th>\n",
       "      <td>Influenza</td>\n",
       "      <td>States</td>\n",
       "      <td>Arkansas</td>\n",
       "      <td>2012</td>\n",
       "      <td>Age</td>\n",
       "      <td>≥18 Years</td>\n",
       "      <td>46.6</td>\n",
       "      <td>40.7 to 52.5</td>\n",
       "      <td>756.0</td>\n",
       "    </tr>\n",
       "    <tr>\n",
       "      <th>2</th>\n",
       "      <td>Influenza</td>\n",
       "      <td>States</td>\n",
       "      <td>Colorado</td>\n",
       "      <td>2012</td>\n",
       "      <td>Age</td>\n",
       "      <td>≥18 Years</td>\n",
       "      <td>56.1</td>\n",
       "      <td>52.1 to 60.0</td>\n",
       "      <td>1170.0</td>\n",
       "    </tr>\n",
       "  </tbody>\n",
       "</table>\n",
       "</div>"
      ],
      "text/plain": [
       "     Vaccine Geography Type Geography  Survey Year/Influenza Season  \\\n",
       "0  Influenza         States    Alaska                          2012   \n",
       "1  Influenza         States  Arkansas                          2012   \n",
       "2  Influenza         States  Colorado                          2012   \n",
       "\n",
       "  Dimension Type  Dimension Estimate (%)    95% CI (%)  Sample Size  \n",
       "0            Age  ≥18 Years         49.2  45.3 to 53.1        852.0  \n",
       "1            Age  ≥18 Years         46.6  40.7 to 52.5        756.0  \n",
       "2            Age  ≥18 Years         56.1  52.1 to 60.0       1170.0  "
      ]
     },
     "execution_count": 10,
     "metadata": {},
     "output_type": "execute_result"
    }
   ],
   "source": [
    "# Display top 3 values\n",
    "data.head(3)"
   ]
  },
  {
   "cell_type": "code",
   "execution_count": 11,
   "metadata": {},
   "outputs": [
    {
     "data": {
      "text/plain": [
       "array([2012, 2020, 2013, 2014, 2015, 2016, 2017, 2018, 2019])"
      ]
     },
     "execution_count": 11,
     "metadata": {},
     "output_type": "execute_result"
    }
   ],
   "source": [
    "data['Survey Year/Influenza Season'].unique()"
   ]
  },
  {
   "cell_type": "code",
   "execution_count": 12,
   "metadata": {},
   "outputs": [],
   "source": [
    "# Make a new copy\n",
    "new_data = data.copy()"
   ]
  },
  {
   "cell_type": "code",
   "execution_count": 13,
   "metadata": {},
   "outputs": [
    {
     "data": {
      "text/plain": [
       "Vaccine                           0\n",
       "Geography Type                    0\n",
       "Geography                         0\n",
       "Survey Year/Influenza Season      0\n",
       "Dimension Type                    0\n",
       "Dimension                         0\n",
       "Estimate (%)                      0\n",
       "95% CI (%)                        0\n",
       "Sample Size                     204\n",
       "dtype: int64"
      ]
     },
     "execution_count": 13,
     "metadata": {},
     "output_type": "execute_result"
    }
   ],
   "source": [
    "# Display the presence of missing values\n",
    "new_data.isnull().sum()"
   ]
  },
  {
   "cell_type": "code",
   "execution_count": 14,
   "metadata": {},
   "outputs": [
    {
     "data": {
      "text/html": [
       "<div>\n",
       "<style scoped>\n",
       "    .dataframe tbody tr th:only-of-type {\n",
       "        vertical-align: middle;\n",
       "    }\n",
       "\n",
       "    .dataframe tbody tr th {\n",
       "        vertical-align: top;\n",
       "    }\n",
       "\n",
       "    .dataframe thead th {\n",
       "        text-align: right;\n",
       "    }\n",
       "</style>\n",
       "<table border=\"1\" class=\"dataframe\">\n",
       "  <thead>\n",
       "    <tr style=\"text-align: right;\">\n",
       "      <th></th>\n",
       "      <th>Survey Year/Influenza Season</th>\n",
       "      <th>Sample Size</th>\n",
       "    </tr>\n",
       "  </thead>\n",
       "  <tbody>\n",
       "    <tr>\n",
       "      <th>count</th>\n",
       "      <td>4137.000000</td>\n",
       "      <td>3933.000000</td>\n",
       "    </tr>\n",
       "    <tr>\n",
       "      <th>mean</th>\n",
       "      <td>2016.230602</td>\n",
       "      <td>805.390796</td>\n",
       "    </tr>\n",
       "    <tr>\n",
       "      <th>std</th>\n",
       "      <td>2.663058</td>\n",
       "      <td>2658.305251</td>\n",
       "    </tr>\n",
       "    <tr>\n",
       "      <th>min</th>\n",
       "      <td>2012.000000</td>\n",
       "      <td>30.000000</td>\n",
       "    </tr>\n",
       "    <tr>\n",
       "      <th>25%</th>\n",
       "      <td>2014.000000</td>\n",
       "      <td>169.000000</td>\n",
       "    </tr>\n",
       "    <tr>\n",
       "      <th>50%</th>\n",
       "      <td>2017.000000</td>\n",
       "      <td>325.000000</td>\n",
       "    </tr>\n",
       "    <tr>\n",
       "      <th>75%</th>\n",
       "      <td>2019.000000</td>\n",
       "      <td>659.000000</td>\n",
       "    </tr>\n",
       "    <tr>\n",
       "      <th>max</th>\n",
       "      <td>2020.000000</td>\n",
       "      <td>43737.000000</td>\n",
       "    </tr>\n",
       "  </tbody>\n",
       "</table>\n",
       "</div>"
      ],
      "text/plain": [
       "       Survey Year/Influenza Season   Sample Size\n",
       "count                   4137.000000   3933.000000\n",
       "mean                    2016.230602    805.390796\n",
       "std                        2.663058   2658.305251\n",
       "min                     2012.000000     30.000000\n",
       "25%                     2014.000000    169.000000\n",
       "50%                     2017.000000    325.000000\n",
       "75%                     2019.000000    659.000000\n",
       "max                     2020.000000  43737.000000"
      ]
     },
     "execution_count": 14,
     "metadata": {},
     "output_type": "execute_result"
    }
   ],
   "source": [
    "new_data.describe()"
   ]
  },
  {
   "cell_type": "code",
   "execution_count": 15,
   "metadata": {},
   "outputs": [
    {
     "data": {
      "text/plain": [
       "str"
      ]
     },
     "execution_count": 15,
     "metadata": {},
     "output_type": "execute_result"
    }
   ],
   "source": [
    "type(new_data['Estimate (%)'][0])"
   ]
  },
  {
   "cell_type": "code",
   "execution_count": 16,
   "metadata": {},
   "outputs": [
    {
     "data": {
      "text/plain": [
       "array(['49.2', '46.6', '56.1', '41.6', '33.6', '42.0', '49.1', '53.0',\n",
       "       '47.9', '66.1', '42.8', '66.0', '45.5', '58.8', '38.6', '37.8',\n",
       "       '39.5', '43.6', '54.3', '47.3', '47.4', '60.4', '44.1', '48.9',\n",
       "       '57.5', '60.9', '43.4', '58.6', '39.1', '49.6', '64.0', '57.3',\n",
       "       '58.2', '74.7', '73.5', '62.9', '73.1', '41.3', '40.9', '68.7',\n",
       "       '65.1', '77.1', '71.2', '53.7', '72.4', '70.5', '79.8', '58.4',\n",
       "       '68.2', '48.1', '64.8', '68.5', '76.0', '75.0', '60.8', '67.6',\n",
       "       '65.0', '74.1', '67.1', '64.5', '34.8', '61.1', '76.1', '54.9',\n",
       "       '67.2', '64.4', '74.0', '64.7', '70.7', '63.3', '39.0', '51.3',\n",
       "       '33.4', '27.6', '38.5', '42.5', '49.0', '41.0', '51.0', '37.0',\n",
       "       '59.4', '32.6', '51.6', '30.7', '50.6', '29.5', '50.0', '38.1',\n",
       "       '39.8', '56.7', '38.9', '41.9', '51.7', '53.2', '39.7', '52.4',\n",
       "       '32.0', '40.5', '66.8', '56.4', '67.8', '63.5', '51.1', '49.7',\n",
       "       '25.9', '29.9', '72.5', '50.3', '73.3', '43.9', '40.4', '69.5',\n",
       "       '58.3', '67.0', '45.1', 'NR*', '37.3', '60.1', '65.3', '55.2',\n",
       "       '65.6', '58.0', '69.9', '62.8', '38.3', '50.2', '65.2', '51.5',\n",
       "       '70.2', '59.1', '58.7', '61.7', '48.3', '46.9', '35.7', '42.6',\n",
       "       '48.5', '53.1', '49.9', '45.4', '66.4', '51.8', '60.7', '40.1',\n",
       "       '48.7', '37.7', '44.4', '46.7', '54.7', '49.8', '61.4', '45.2',\n",
       "       '58.5', '64.9', '57.9', '53.4', '62.7', '57.8', '74.6', '74.8',\n",
       "       '64.2', '67.4', '42.9', '72.6', '57.4', '57.1', '72.2', '79.1',\n",
       "       '61.6', '68.6', '65.9', '69.8', '77.9', '76.8', '68.4', '67.5',\n",
       "       '31.2', '75.6', '69.4', '73.2', '73.8', '65.5', '39.4', '37.4',\n",
       "       '44.7', '60.0', '50.5', '68.1', '72.9', '54.1', '40.7', '46.2',\n",
       "       '45.6', '52.1', '62.5', '64.1', '57.2', '61.0', '82.0', '76.4',\n",
       "       '71.1', '90.8', '50.9', '50.8', '71.6', '72.1', '81.7', '77.6',\n",
       "       '59.8', '75.1', '69.6', '85.8', '63.8', '57.6', '66.7', '75.9',\n",
       "       '77.7', '68.8', '77.2', '65.4', '80.5', '66.9', '76.9', '78.5',\n",
       "       '70.0', '28.3', '20.3', '37.5', '39.6', '33.8', '60.2', '35.3',\n",
       "       '50.1', '33.1', '26.5', '41.7', '48.8', '56.0', '36.1', '56.5',\n",
       "       '29.2', '63.4', '64.3', '54.4', '45.7', '24.8', '23.3', '36.2',\n",
       "       '62.6', '53.5', '59.2', '34.7', '53.8', '44.6', '55.9', '48.4',\n",
       "       '77.0', '35.6', '45.9', '53.3', '30.6', '47.7', '35.0', '46.8',\n",
       "       '41.4', '36.3', '51.9', '67.7', '59.5', '61.5', '57.0', '68.3',\n",
       "       '90.9', '36.0', '32.9', '61.9', '76.3', '71.3', '80.4', '34.5',\n",
       "       '71.0', '45.3', '40.2', '63.7', '37.6', '43.5', '47.0', '69.3',\n",
       "       '61.3', '78.0', '83.9', '82.6', '81.3', '71.5', '70.8', '56.2',\n",
       "       '43.3', '44.2', '29.8', '52.2', '51.4', '44.0', '59.7', '40.8',\n",
       "       '46.5', '55.3', '46.4', '49.5', '43.8', '59.3', '38.7', '74.9',\n",
       "       '78.4', '95.1', '69.7', '79.6', '54.0', '80.8', '70.3', '53.9',\n",
       "       '70.9', '76.6', '63.9', '77.3', '64.6', '73.4', '23.4', '55.4',\n",
       "       '48.2', '43.2', '54.6', '72.7', '58.1', '62.4', '50.4', '65.7',\n",
       "       '42.4', '61.8', '52.3', '65.8', '60.6', '52.5', '63.2', '55.5',\n",
       "       '52.8', '54.8', '75.7', '59.6', '66.3', '59.9', '66.5', '57.7',\n",
       "       '45.8', '52.9', '52.0', '56.3', '58.9', '47.5', '62.3', '73.7',\n",
       "       '51.2', '75.5', '55.0', '59.0', '70.4', '70.1', '25.0', '75.3',\n",
       "       '72.0', '40.3', '61.2', '55.7', '49.4', '70.6', '31.0', '74.3',\n",
       "       '72.3', '48.0', '69.2', '56.8', '66.2', '73.9', '82.2', '14.7',\n",
       "       '44.3', '60.3', '40.6', '43.0', '46.3', '42.2', '60.5', '39.2',\n",
       "       '56.9', '36.5', '54.2', '47.6', '38.2', '68.0', '35.4', '53.6',\n",
       "       '54.5', '36.6', '63.0', '33.5', '55.1', '30.5', '41.1', '35.8',\n",
       "       '71.4', '29.3', '36.8', '36.9', '69.0', '44.8', '76.7', '55.8',\n",
       "       '41.5', '25.3', '71.8', '62.1', '79.2', '69.1', '47.2', '50.7',\n",
       "       '73.0', '67.9', '75.4', '62.2', '52.6', '52.7', '55.6', '75.2',\n",
       "       '67.3', '63.1', '46.1', '63.6', '21.7', '68.9', '41.8', '78.1',\n",
       "       '56.6', '71.7', '32.3', '81.5', '20.1', '76.5', '73.6', '81.6',\n",
       "       '77.4', '74.5', '20.7', '44.9', '82.1', '49.3', '81.4', '78.7',\n",
       "       '17.1', '83.3', '81.9', '78.2', '82.9', '62.0', '87.1', '78.8',\n",
       "       '72.8', '16.6', '39.9', '40.0', '30.8', '79.7', '34.0', '48.6',\n",
       "       '35.9', '83.5', '79.4', '38.0', '43.1', '24.7', '42.1', '27.8',\n",
       "       '26.6', '38.4', '44.5', '66.6', '75.8', '74.2', '25.2', '86.8',\n",
       "       '71.9', '76.2', '84.4', '42.3', '84.6', '85.0', '79.3', '83.0',\n",
       "       '80.3', '81.8', '84.2', '78.6', '80.2', '29.6', '87.0', '91.5',\n",
       "       '42.7', '79.5', '82.7', '20.5', '8.2', '15.5', '14.0', '15.8',\n",
       "       '9.1', '18.8', '25.6', '31.3', '26.4', '27.1', '28.0', '32.8',\n",
       "       '47.8', '84.1', '86.5', '86.0', '74.4', '81.2', '83.6', '88.6',\n",
       "       '85.6', '83.2', '90.2', '86.9', '85.9', '86.3', '89.5', '85.1',\n",
       "       '82.8', '78.9', '88.4', '86.1', '87.7', '89.2', '87.2', '90.4',\n",
       "       '81.0', '86.2', '83.7', '21.6', '7.7', '12.1', '18.3', '14.5',\n",
       "       '15.1', '25.5', '20.4', '25.4', '29.7', '39.3', '84.7', '86.7',\n",
       "       '77.5', '91.6', '87.9', '77.8', '80.9', '87.3', '85.3', '83.8',\n",
       "       '89.3', '87.4', '87.6', '89.7', '90.1', '18.7', '8.4', '15.9',\n",
       "       '10.8', '18.0', '8.1', '14.3', '23.1', '26.8', '31.6', '27.0',\n",
       "       '46.0', '84.0', '80.7', '83.4', '88.1', '84.5', '81.1', '90.0',\n",
       "       '80.0', '88.0', '84.8', '84.3', '82.3', '89.1', '85.5', '89.0',\n",
       "       '88.2', '92.1', '83.1', '24.9', '8.5', '19.0', '17.7', '15.7',\n",
       "       '21.4', '13.8', '25.7', '23.9', '30.9', '24.1', '88.5', '91.7',\n",
       "       '90.6', '87.5', '91.8', '82.4', '84.9', '87.8', '89.6', '80.6',\n",
       "       '11.2', '21.8', '31.1', '29.0', '19.9', '32.7', '79.0', '18.5',\n",
       "       '26.7', '22.9', '30.3', '37.2', '85.7', '88.7', '86.4', '91.3',\n",
       "       '79.9', '85.4', '14.9', '23.6', '80.1', '93.7', '82.5', '93.0',\n",
       "       '98.2', '88.8', '18.6', '5.2', '13.7', '13.6', '13.4', '26.2',\n",
       "       '27.9', '31.4', '47.1', '91.0', '91.4', '78.3', '89.9'],\n",
       "      dtype=object)"
      ]
     },
     "execution_count": 16,
     "metadata": {},
     "output_type": "execute_result"
    }
   ],
   "source": [
    "new_data['Estimate (%)'].unique()"
   ]
  },
  {
   "cell_type": "code",
   "execution_count": 18,
   "metadata": {},
   "outputs": [],
   "source": [
    "# There is some unwanted values so replacing it with NaN for easy cleaning of data\n",
    "new_data['Estimate (%)'] = new_data['Estimate (%)'].replace('NR*', 'NaN')"
   ]
  },
  {
   "cell_type": "code",
   "execution_count": 19,
   "metadata": {},
   "outputs": [
    {
     "data": {
      "text/plain": [
       "array(['49.2', '46.6', '56.1', '41.6', '33.6', '42.0', '49.1', '53.0',\n",
       "       '47.9', '66.1', '42.8', '66.0', '45.5', '58.8', '38.6', '37.8',\n",
       "       '39.5', '43.6', '54.3', '47.3', '47.4', '60.4', '44.1', '48.9',\n",
       "       '57.5', '60.9', '43.4', '58.6', '39.1', '49.6', '64.0', '57.3',\n",
       "       '58.2', '74.7', '73.5', '62.9', '73.1', '41.3', '40.9', '68.7',\n",
       "       '65.1', '77.1', '71.2', '53.7', '72.4', '70.5', '79.8', '58.4',\n",
       "       '68.2', '48.1', '64.8', '68.5', '76.0', '75.0', '60.8', '67.6',\n",
       "       '65.0', '74.1', '67.1', '64.5', '34.8', '61.1', '76.1', '54.9',\n",
       "       '67.2', '64.4', '74.0', '64.7', '70.7', '63.3', '39.0', '51.3',\n",
       "       '33.4', '27.6', '38.5', '42.5', '49.0', '41.0', '51.0', '37.0',\n",
       "       '59.4', '32.6', '51.6', '30.7', '50.6', '29.5', '50.0', '38.1',\n",
       "       '39.8', '56.7', '38.9', '41.9', '51.7', '53.2', '39.7', '52.4',\n",
       "       '32.0', '40.5', '66.8', '56.4', '67.8', '63.5', '51.1', '49.7',\n",
       "       '25.9', '29.9', '72.5', '50.3', '73.3', '43.9', '40.4', '69.5',\n",
       "       '58.3', '67.0', '45.1', 'NaN', '37.3', '60.1', '65.3', '55.2',\n",
       "       '65.6', '58.0', '69.9', '62.8', '38.3', '50.2', '65.2', '51.5',\n",
       "       '70.2', '59.1', '58.7', '61.7', '48.3', '46.9', '35.7', '42.6',\n",
       "       '48.5', '53.1', '49.9', '45.4', '66.4', '51.8', '60.7', '40.1',\n",
       "       '48.7', '37.7', '44.4', '46.7', '54.7', '49.8', '61.4', '45.2',\n",
       "       '58.5', '64.9', '57.9', '53.4', '62.7', '57.8', '74.6', '74.8',\n",
       "       '64.2', '67.4', '42.9', '72.6', '57.4', '57.1', '72.2', '79.1',\n",
       "       '61.6', '68.6', '65.9', '69.8', '77.9', '76.8', '68.4', '67.5',\n",
       "       '31.2', '75.6', '69.4', '73.2', '73.8', '65.5', '39.4', '37.4',\n",
       "       '44.7', '60.0', '50.5', '68.1', '72.9', '54.1', '40.7', '46.2',\n",
       "       '45.6', '52.1', '62.5', '64.1', '57.2', '61.0', '82.0', '76.4',\n",
       "       '71.1', '90.8', '50.9', '50.8', '71.6', '72.1', '81.7', '77.6',\n",
       "       '59.8', '75.1', '69.6', '85.8', '63.8', '57.6', '66.7', '75.9',\n",
       "       '77.7', '68.8', '77.2', '65.4', '80.5', '66.9', '76.9', '78.5',\n",
       "       '70.0', '28.3', '20.3', '37.5', '39.6', '33.8', '60.2', '35.3',\n",
       "       '50.1', '33.1', '26.5', '41.7', '48.8', '56.0', '36.1', '56.5',\n",
       "       '29.2', '63.4', '64.3', '54.4', '45.7', '24.8', '23.3', '36.2',\n",
       "       '62.6', '53.5', '59.2', '34.7', '53.8', '44.6', '55.9', '48.4',\n",
       "       '77.0', '35.6', '45.9', '53.3', '30.6', '47.7', '35.0', '46.8',\n",
       "       '41.4', '36.3', '51.9', '67.7', '59.5', '61.5', '57.0', '68.3',\n",
       "       '90.9', '36.0', '32.9', '61.9', '76.3', '71.3', '80.4', '34.5',\n",
       "       '71.0', '45.3', '40.2', '63.7', '37.6', '43.5', '47.0', '69.3',\n",
       "       '61.3', '78.0', '83.9', '82.6', '81.3', '71.5', '70.8', '56.2',\n",
       "       '43.3', '44.2', '29.8', '52.2', '51.4', '44.0', '59.7', '40.8',\n",
       "       '46.5', '55.3', '46.4', '49.5', '43.8', '59.3', '38.7', '74.9',\n",
       "       '78.4', '95.1', '69.7', '79.6', '54.0', '80.8', '70.3', '53.9',\n",
       "       '70.9', '76.6', '63.9', '77.3', '64.6', '73.4', '23.4', '55.4',\n",
       "       '48.2', '43.2', '54.6', '72.7', '58.1', '62.4', '50.4', '65.7',\n",
       "       '42.4', '61.8', '52.3', '65.8', '60.6', '52.5', '63.2', '55.5',\n",
       "       '52.8', '54.8', '75.7', '59.6', '66.3', '59.9', '66.5', '57.7',\n",
       "       '45.8', '52.9', '52.0', '56.3', '58.9', '47.5', '62.3', '73.7',\n",
       "       '51.2', '75.5', '55.0', '59.0', '70.4', '70.1', '25.0', '75.3',\n",
       "       '72.0', '40.3', '61.2', '55.7', '49.4', '70.6', '31.0', '74.3',\n",
       "       '72.3', '48.0', '69.2', '56.8', '66.2', '73.9', '82.2', '14.7',\n",
       "       '44.3', '60.3', '40.6', '43.0', '46.3', '42.2', '60.5', '39.2',\n",
       "       '56.9', '36.5', '54.2', '47.6', '38.2', '68.0', '35.4', '53.6',\n",
       "       '54.5', '36.6', '63.0', '33.5', '55.1', '30.5', '41.1', '35.8',\n",
       "       '71.4', '29.3', '36.8', '36.9', '69.0', '44.8', '76.7', '55.8',\n",
       "       '41.5', '25.3', '71.8', '62.1', '79.2', '69.1', '47.2', '50.7',\n",
       "       '73.0', '67.9', '75.4', '62.2', '52.6', '52.7', '55.6', '75.2',\n",
       "       '67.3', '63.1', '46.1', '63.6', '21.7', '68.9', '41.8', '78.1',\n",
       "       '56.6', '71.7', '32.3', '81.5', '20.1', '76.5', '73.6', '81.6',\n",
       "       '77.4', '74.5', '20.7', '44.9', '82.1', '49.3', '81.4', '78.7',\n",
       "       '17.1', '83.3', '81.9', '78.2', '82.9', '62.0', '87.1', '78.8',\n",
       "       '72.8', '16.6', '39.9', '40.0', '30.8', '79.7', '34.0', '48.6',\n",
       "       '35.9', '83.5', '79.4', '38.0', '43.1', '24.7', '42.1', '27.8',\n",
       "       '26.6', '38.4', '44.5', '66.6', '75.8', '74.2', '25.2', '86.8',\n",
       "       '71.9', '76.2', '84.4', '42.3', '84.6', '85.0', '79.3', '83.0',\n",
       "       '80.3', '81.8', '84.2', '78.6', '80.2', '29.6', '87.0', '91.5',\n",
       "       '42.7', '79.5', '82.7', '20.5', '8.2', '15.5', '14.0', '15.8',\n",
       "       '9.1', '18.8', '25.6', '31.3', '26.4', '27.1', '28.0', '32.8',\n",
       "       '47.8', '84.1', '86.5', '86.0', '74.4', '81.2', '83.6', '88.6',\n",
       "       '85.6', '83.2', '90.2', '86.9', '85.9', '86.3', '89.5', '85.1',\n",
       "       '82.8', '78.9', '88.4', '86.1', '87.7', '89.2', '87.2', '90.4',\n",
       "       '81.0', '86.2', '83.7', '21.6', '7.7', '12.1', '18.3', '14.5',\n",
       "       '15.1', '25.5', '20.4', '25.4', '29.7', '39.3', '84.7', '86.7',\n",
       "       '77.5', '91.6', '87.9', '77.8', '80.9', '87.3', '85.3', '83.8',\n",
       "       '89.3', '87.4', '87.6', '89.7', '90.1', '18.7', '8.4', '15.9',\n",
       "       '10.8', '18.0', '8.1', '14.3', '23.1', '26.8', '31.6', '27.0',\n",
       "       '46.0', '84.0', '80.7', '83.4', '88.1', '84.5', '81.1', '90.0',\n",
       "       '80.0', '88.0', '84.8', '84.3', '82.3', '89.1', '85.5', '89.0',\n",
       "       '88.2', '92.1', '83.1', '24.9', '8.5', '19.0', '17.7', '15.7',\n",
       "       '21.4', '13.8', '25.7', '23.9', '30.9', '24.1', '88.5', '91.7',\n",
       "       '90.6', '87.5', '91.8', '82.4', '84.9', '87.8', '89.6', '80.6',\n",
       "       '11.2', '21.8', '31.1', '29.0', '19.9', '32.7', '79.0', '18.5',\n",
       "       '26.7', '22.9', '30.3', '37.2', '85.7', '88.7', '86.4', '91.3',\n",
       "       '79.9', '85.4', '14.9', '23.6', '80.1', '93.7', '82.5', '93.0',\n",
       "       '98.2', '88.8', '18.6', '5.2', '13.7', '13.6', '13.4', '26.2',\n",
       "       '27.9', '31.4', '47.1', '91.0', '91.4', '78.3', '89.9'],\n",
       "      dtype=object)"
      ]
     },
     "execution_count": 19,
     "metadata": {},
     "output_type": "execute_result"
    }
   ],
   "source": [
    "new_data['Estimate (%)'].unique()"
   ]
  },
  {
   "cell_type": "code",
   "execution_count": 20,
   "metadata": {},
   "outputs": [],
   "source": [
    "new_data['Estimate (%)'] = new_data['Estimate (%)'].dropna()"
   ]
  },
  {
   "cell_type": "code",
   "execution_count": 21,
   "metadata": {},
   "outputs": [],
   "source": [
    "# The column is in str so typecasting it to float for numerical computations\n",
    "new_data['Estimate (%)'] = new_data['Estimate (%)'].astype(float)"
   ]
  },
  {
   "cell_type": "code",
   "execution_count": 22,
   "metadata": {},
   "outputs": [
    {
     "data": {
      "text/plain": [
       "49.2"
      ]
     },
     "execution_count": 22,
     "metadata": {},
     "output_type": "execute_result"
    }
   ],
   "source": [
    "new_data['Estimate (%)'][0]"
   ]
  },
  {
   "cell_type": "code",
   "execution_count": 23,
   "metadata": {},
   "outputs": [
    {
     "name": "stdout",
     "output_type": "stream",
     "text": [
      "<class 'pandas.core.frame.DataFrame'>\n",
      "RangeIndex: 4137 entries, 0 to 4136\n",
      "Data columns (total 9 columns):\n",
      " #   Column                        Non-Null Count  Dtype  \n",
      "---  ------                        --------------  -----  \n",
      " 0   Vaccine                       4137 non-null   object \n",
      " 1   Geography Type                4137 non-null   object \n",
      " 2   Geography                     4137 non-null   object \n",
      " 3   Survey Year/Influenza Season  4137 non-null   int64  \n",
      " 4   Dimension Type                4137 non-null   object \n",
      " 5   Dimension                     4137 non-null   object \n",
      " 6   Estimate (%)                  3715 non-null   float64\n",
      " 7   95% CI (%)                    4137 non-null   object \n",
      " 8   Sample Size                   3933 non-null   float64\n",
      "dtypes: float64(2), int64(1), object(6)\n",
      "memory usage: 291.0+ KB\n"
     ]
    }
   ],
   "source": [
    "new_data.info()"
   ]
  },
  {
   "cell_type": "code",
   "execution_count": 74,
   "metadata": {},
   "outputs": [],
   "source": [
    "# Dropping all the null values\n",
    "new_data = new_data.dropna()"
   ]
  },
  {
   "cell_type": "code",
   "execution_count": 25,
   "metadata": {},
   "outputs": [
    {
     "name": "stdout",
     "output_type": "stream",
     "text": [
      "<class 'pandas.core.frame.DataFrame'>\n",
      "Int64Index: 3715 entries, 0 to 4136\n",
      "Data columns (total 9 columns):\n",
      " #   Column                        Non-Null Count  Dtype  \n",
      "---  ------                        --------------  -----  \n",
      " 0   Vaccine                       3715 non-null   object \n",
      " 1   Geography Type                3715 non-null   object \n",
      " 2   Geography                     3715 non-null   object \n",
      " 3   Survey Year/Influenza Season  3715 non-null   int64  \n",
      " 4   Dimension Type                3715 non-null   object \n",
      " 5   Dimension                     3715 non-null   object \n",
      " 6   Estimate (%)                  3715 non-null   float64\n",
      " 7   95% CI (%)                    3715 non-null   object \n",
      " 8   Sample Size                   3715 non-null   float64\n",
      "dtypes: float64(2), int64(1), object(6)\n",
      "memory usage: 290.2+ KB\n"
     ]
    }
   ],
   "source": [
    "new_data.info()"
   ]
  },
  {
   "cell_type": "code",
   "execution_count": 26,
   "metadata": {},
   "outputs": [
    {
     "data": {
      "text/html": [
       "<div>\n",
       "<style scoped>\n",
       "    .dataframe tbody tr th:only-of-type {\n",
       "        vertical-align: middle;\n",
       "    }\n",
       "\n",
       "    .dataframe tbody tr th {\n",
       "        vertical-align: top;\n",
       "    }\n",
       "\n",
       "    .dataframe thead th {\n",
       "        text-align: right;\n",
       "    }\n",
       "</style>\n",
       "<table border=\"1\" class=\"dataframe\">\n",
       "  <thead>\n",
       "    <tr style=\"text-align: right;\">\n",
       "      <th></th>\n",
       "      <th>Survey Year/Influenza Season</th>\n",
       "      <th>Estimate (%)</th>\n",
       "      <th>Sample Size</th>\n",
       "    </tr>\n",
       "  </thead>\n",
       "  <tbody>\n",
       "    <tr>\n",
       "      <th>count</th>\n",
       "      <td>3715.000000</td>\n",
       "      <td>3715.000000</td>\n",
       "      <td>3715.000000</td>\n",
       "    </tr>\n",
       "    <tr>\n",
       "      <th>mean</th>\n",
       "      <td>2016.241184</td>\n",
       "      <td>61.275074</td>\n",
       "      <td>849.202153</td>\n",
       "    </tr>\n",
       "    <tr>\n",
       "      <th>std</th>\n",
       "      <td>2.648391</td>\n",
       "      <td>15.169773</td>\n",
       "      <td>2728.862515</td>\n",
       "    </tr>\n",
       "    <tr>\n",
       "      <th>min</th>\n",
       "      <td>2012.000000</td>\n",
       "      <td>5.200000</td>\n",
       "      <td>32.000000</td>\n",
       "    </tr>\n",
       "    <tr>\n",
       "      <th>25%</th>\n",
       "      <td>2014.000000</td>\n",
       "      <td>52.000000</td>\n",
       "      <td>191.000000</td>\n",
       "    </tr>\n",
       "    <tr>\n",
       "      <th>50%</th>\n",
       "      <td>2017.000000</td>\n",
       "      <td>62.700000</td>\n",
       "      <td>346.000000</td>\n",
       "    </tr>\n",
       "    <tr>\n",
       "      <th>75%</th>\n",
       "      <td>2019.000000</td>\n",
       "      <td>72.100000</td>\n",
       "      <td>685.500000</td>\n",
       "    </tr>\n",
       "    <tr>\n",
       "      <th>max</th>\n",
       "      <td>2020.000000</td>\n",
       "      <td>98.200000</td>\n",
       "      <td>43737.000000</td>\n",
       "    </tr>\n",
       "  </tbody>\n",
       "</table>\n",
       "</div>"
      ],
      "text/plain": [
       "       Survey Year/Influenza Season  Estimate (%)   Sample Size\n",
       "count                   3715.000000   3715.000000   3715.000000\n",
       "mean                    2016.241184     61.275074    849.202153\n",
       "std                        2.648391     15.169773   2728.862515\n",
       "min                     2012.000000      5.200000     32.000000\n",
       "25%                     2014.000000     52.000000    191.000000\n",
       "50%                     2017.000000     62.700000    346.000000\n",
       "75%                     2019.000000     72.100000    685.500000\n",
       "max                     2020.000000     98.200000  43737.000000"
      ]
     },
     "execution_count": 26,
     "metadata": {},
     "output_type": "execute_result"
    }
   ],
   "source": [
    "new_data.describe()"
   ]
  },
  {
   "cell_type": "markdown",
   "metadata": {},
   "source": [
    "#### Central Tendency Measures"
   ]
  },
  {
   "cell_type": "code",
   "execution_count": 27,
   "metadata": {},
   "outputs": [
    {
     "data": {
      "text/plain": [
       "61.275074024226114"
      ]
     },
     "execution_count": 27,
     "metadata": {},
     "output_type": "execute_result"
    }
   ],
   "source": [
    "# Calculate Mean\n",
    "new_data['Estimate (%)'].mean()"
   ]
  },
  {
   "cell_type": "code",
   "execution_count": 28,
   "metadata": {},
   "outputs": [
    {
     "data": {
      "text/plain": [
       "62.7"
      ]
     },
     "execution_count": 28,
     "metadata": {},
     "output_type": "execute_result"
    }
   ],
   "source": [
    "# Calculate Median\n",
    "new_data['Estimate (%)'].median()"
   ]
  },
  {
   "cell_type": "code",
   "execution_count": 29,
   "metadata": {},
   "outputs": [
    {
     "data": {
      "text/plain": [
       "0    57.8\n",
       "Name: Estimate (%), dtype: float64"
      ]
     },
     "execution_count": 29,
     "metadata": {},
     "output_type": "execute_result"
    }
   ],
   "source": [
    "# Calculate Mode\n",
    "new_data['Estimate (%)'].mode()"
   ]
  },
  {
   "cell_type": "code",
   "execution_count": 30,
   "metadata": {},
   "outputs": [
    {
     "data": {
      "text/plain": [
       "62.7"
      ]
     },
     "execution_count": 30,
     "metadata": {},
     "output_type": "execute_result"
    }
   ],
   "source": [
    "# Calculate Quantile\n",
    "new_data['Estimate (%)'].quantile()"
   ]
  },
  {
   "cell_type": "markdown",
   "metadata": {},
   "source": [
    "#### Measure of dispersion"
   ]
  },
  {
   "cell_type": "code",
   "execution_count": 31,
   "metadata": {},
   "outputs": [
    {
     "data": {
      "text/plain": [
       "230.12201180792763"
      ]
     },
     "execution_count": 31,
     "metadata": {},
     "output_type": "execute_result"
    }
   ],
   "source": [
    "# Calculate Variance\n",
    "new_data['Estimate (%)'].var()"
   ]
  },
  {
   "cell_type": "code",
   "execution_count": 32,
   "metadata": {},
   "outputs": [
    {
     "data": {
      "text/plain": [
       "15.169772964943398"
      ]
     },
     "execution_count": 32,
     "metadata": {},
     "output_type": "execute_result"
    }
   ],
   "source": [
    "# Calculate Standard Deviation\n",
    "new_data['Estimate (%)'].std()"
   ]
  },
  {
   "cell_type": "code",
   "execution_count": 33,
   "metadata": {},
   "outputs": [
    {
     "data": {
      "text/plain": [
       "-0.019988084872987543"
      ]
     },
     "execution_count": 33,
     "metadata": {},
     "output_type": "execute_result"
    }
   ],
   "source": [
    "# Correlation\n",
    "# Calculate Variance\n",
    "new_data['Estimate (%)'].corr(new_data['Sample Size'])"
   ]
  },
  {
   "cell_type": "code",
   "execution_count": 35,
   "metadata": {},
   "outputs": [
    {
     "data": {
      "text/html": [
       "<div>\n",
       "<style scoped>\n",
       "    .dataframe tbody tr th:only-of-type {\n",
       "        vertical-align: middle;\n",
       "    }\n",
       "\n",
       "    .dataframe tbody tr th {\n",
       "        vertical-align: top;\n",
       "    }\n",
       "\n",
       "    .dataframe thead th {\n",
       "        text-align: right;\n",
       "    }\n",
       "</style>\n",
       "<table border=\"1\" class=\"dataframe\">\n",
       "  <thead>\n",
       "    <tr style=\"text-align: right;\">\n",
       "      <th></th>\n",
       "      <th>Vaccine</th>\n",
       "      <th>Geography Type</th>\n",
       "      <th>Geography</th>\n",
       "      <th>Survey Year/Influenza Season</th>\n",
       "      <th>Dimension Type</th>\n",
       "      <th>Dimension</th>\n",
       "      <th>Estimate (%)</th>\n",
       "      <th>95% CI (%)</th>\n",
       "      <th>Sample Size</th>\n",
       "    </tr>\n",
       "  </thead>\n",
       "  <tbody>\n",
       "    <tr>\n",
       "      <th>3513</th>\n",
       "      <td>Tdap</td>\n",
       "      <td>National</td>\n",
       "      <td>United States</td>\n",
       "      <td>2020</td>\n",
       "      <td>Age</td>\n",
       "      <td>≥35 Years</td>\n",
       "      <td>78.7</td>\n",
       "      <td>76.8 to 80.5</td>\n",
       "      <td>4108.0</td>\n",
       "    </tr>\n",
       "    <tr>\n",
       "      <th>1258</th>\n",
       "      <td>Influenza</td>\n",
       "      <td>States</td>\n",
       "      <td>Arkansas</td>\n",
       "      <td>2015</td>\n",
       "      <td>Age</td>\n",
       "      <td>25-34 Years</td>\n",
       "      <td>66.9</td>\n",
       "      <td>60.6 to 72.8</td>\n",
       "      <td>428.0</td>\n",
       "    </tr>\n",
       "  </tbody>\n",
       "</table>\n",
       "</div>"
      ],
      "text/plain": [
       "        Vaccine Geography Type      Geography  Survey Year/Influenza Season  \\\n",
       "3513       Tdap       National  United States                          2020   \n",
       "1258  Influenza         States       Arkansas                          2015   \n",
       "\n",
       "     Dimension Type    Dimension  Estimate (%)    95% CI (%)  Sample Size  \n",
       "3513            Age    ≥35 Years          78.7  76.8 to 80.5       4108.0  \n",
       "1258            Age  25-34 Years          66.9  60.6 to 72.8        428.0  "
      ]
     },
     "execution_count": 35,
     "metadata": {},
     "output_type": "execute_result"
    }
   ],
   "source": [
    "new_data.sample(2)"
   ]
  },
  {
   "cell_type": "code",
   "execution_count": 37,
   "metadata": {},
   "outputs": [
    {
     "data": {
      "text/plain": [
       "Influenza    2573\n",
       "Tdap         1142\n",
       "Name: Vaccine, dtype: int64"
      ]
     },
     "execution_count": 37,
     "metadata": {},
     "output_type": "execute_result"
    }
   ],
   "source": [
    "new_data['Vaccine'].value_counts()"
   ]
  },
  {
   "cell_type": "code",
   "execution_count": 38,
   "metadata": {},
   "outputs": [
    {
     "data": {
      "text/html": [
       "<div>\n",
       "<style scoped>\n",
       "    .dataframe tbody tr th:only-of-type {\n",
       "        vertical-align: middle;\n",
       "    }\n",
       "\n",
       "    .dataframe tbody tr th {\n",
       "        vertical-align: top;\n",
       "    }\n",
       "\n",
       "    .dataframe thead th {\n",
       "        text-align: right;\n",
       "    }\n",
       "</style>\n",
       "<table border=\"1\" class=\"dataframe\">\n",
       "  <thead>\n",
       "    <tr style=\"text-align: right;\">\n",
       "      <th>col_0</th>\n",
       "      <th>count</th>\n",
       "    </tr>\n",
       "    <tr>\n",
       "      <th>Vaccine</th>\n",
       "      <th></th>\n",
       "    </tr>\n",
       "  </thead>\n",
       "  <tbody>\n",
       "    <tr>\n",
       "      <th>Influenza</th>\n",
       "      <td>2573</td>\n",
       "    </tr>\n",
       "    <tr>\n",
       "      <th>Tdap</th>\n",
       "      <td>1142</td>\n",
       "    </tr>\n",
       "  </tbody>\n",
       "</table>\n",
       "</div>"
      ],
      "text/plain": [
       "col_0      count\n",
       "Vaccine         \n",
       "Influenza   2573\n",
       "Tdap        1142"
      ]
     },
     "execution_count": 38,
     "metadata": {},
     "output_type": "execute_result"
    }
   ],
   "source": [
    "# Create Frequency Table\n",
    "pd.crosstab(index=new_data['Vaccine'], columns='count')"
   ]
  },
  {
   "cell_type": "code",
   "execution_count": 39,
   "metadata": {},
   "outputs": [
    {
     "data": {
      "text/html": [
       "<div>\n",
       "<style scoped>\n",
       "    .dataframe tbody tr th:only-of-type {\n",
       "        vertical-align: middle;\n",
       "    }\n",
       "\n",
       "    .dataframe tbody tr th {\n",
       "        vertical-align: top;\n",
       "    }\n",
       "\n",
       "    .dataframe thead th {\n",
       "        text-align: right;\n",
       "    }\n",
       "</style>\n",
       "<table border=\"1\" class=\"dataframe\">\n",
       "  <thead>\n",
       "    <tr style=\"text-align: right;\">\n",
       "      <th>Vaccine</th>\n",
       "      <th>Influenza</th>\n",
       "      <th>Tdap</th>\n",
       "    </tr>\n",
       "    <tr>\n",
       "      <th>Geography Type</th>\n",
       "      <th></th>\n",
       "      <th></th>\n",
       "    </tr>\n",
       "  </thead>\n",
       "  <tbody>\n",
       "    <tr>\n",
       "      <th>National</th>\n",
       "      <td>80</td>\n",
       "      <td>72</td>\n",
       "    </tr>\n",
       "    <tr>\n",
       "      <th>States</th>\n",
       "      <td>2493</td>\n",
       "      <td>1070</td>\n",
       "    </tr>\n",
       "  </tbody>\n",
       "</table>\n",
       "</div>"
      ],
      "text/plain": [
       "Vaccine         Influenza  Tdap\n",
       "Geography Type                 \n",
       "National               80    72\n",
       "States               2493  1070"
      ]
     },
     "execution_count": 39,
     "metadata": {},
     "output_type": "execute_result"
    }
   ],
   "source": [
    "# Create two-way table\n",
    "pd.crosstab(index=new_data['Geography Type'], columns=new_data['Vaccine'])"
   ]
  },
  {
   "cell_type": "code",
   "execution_count": 40,
   "metadata": {},
   "outputs": [
    {
     "data": {
      "text/html": [
       "<div>\n",
       "<style scoped>\n",
       "    .dataframe tbody tr th:only-of-type {\n",
       "        vertical-align: middle;\n",
       "    }\n",
       "\n",
       "    .dataframe tbody tr th {\n",
       "        vertical-align: top;\n",
       "    }\n",
       "\n",
       "    .dataframe thead th {\n",
       "        text-align: right;\n",
       "    }\n",
       "</style>\n",
       "<table border=\"1\" class=\"dataframe\">\n",
       "  <thead>\n",
       "    <tr style=\"text-align: right;\">\n",
       "      <th>Vaccine</th>\n",
       "      <th>Influenza</th>\n",
       "      <th>Tdap</th>\n",
       "    </tr>\n",
       "    <tr>\n",
       "      <th>Geography Type</th>\n",
       "      <th></th>\n",
       "      <th></th>\n",
       "    </tr>\n",
       "  </thead>\n",
       "  <tbody>\n",
       "    <tr>\n",
       "      <th>National</th>\n",
       "      <td>0.021534</td>\n",
       "      <td>0.019381</td>\n",
       "    </tr>\n",
       "    <tr>\n",
       "      <th>States</th>\n",
       "      <td>0.671063</td>\n",
       "      <td>0.288022</td>\n",
       "    </tr>\n",
       "  </tbody>\n",
       "</table>\n",
       "</div>"
      ],
      "text/plain": [
       "Vaccine         Influenza      Tdap\n",
       "Geography Type                     \n",
       "National         0.021534  0.019381\n",
       "States           0.671063  0.288022"
      ]
     },
     "execution_count": 40,
     "metadata": {},
     "output_type": "execute_result"
    }
   ],
   "source": [
    "# Two-way table probability\n",
    "pd.crosstab(index=new_data['Geography Type'], columns=new_data['Vaccine'], normalize=True)"
   ]
  },
  {
   "cell_type": "code",
   "execution_count": 41,
   "metadata": {},
   "outputs": [
    {
     "data": {
      "text/html": [
       "<div>\n",
       "<style scoped>\n",
       "    .dataframe tbody tr th:only-of-type {\n",
       "        vertical-align: middle;\n",
       "    }\n",
       "\n",
       "    .dataframe tbody tr th {\n",
       "        vertical-align: top;\n",
       "    }\n",
       "\n",
       "    .dataframe thead th {\n",
       "        text-align: right;\n",
       "    }\n",
       "</style>\n",
       "<table border=\"1\" class=\"dataframe\">\n",
       "  <thead>\n",
       "    <tr style=\"text-align: right;\">\n",
       "      <th>Vaccine</th>\n",
       "      <th>Influenza</th>\n",
       "      <th>Tdap</th>\n",
       "    </tr>\n",
       "    <tr>\n",
       "      <th>Geography Type</th>\n",
       "      <th></th>\n",
       "      <th></th>\n",
       "    </tr>\n",
       "  </thead>\n",
       "  <tbody>\n",
       "    <tr>\n",
       "      <th>National</th>\n",
       "      <td>0.526316</td>\n",
       "      <td>0.473684</td>\n",
       "    </tr>\n",
       "    <tr>\n",
       "      <th>States</th>\n",
       "      <td>0.699691</td>\n",
       "      <td>0.300309</td>\n",
       "    </tr>\n",
       "    <tr>\n",
       "      <th>All</th>\n",
       "      <td>0.692598</td>\n",
       "      <td>0.307402</td>\n",
       "    </tr>\n",
       "  </tbody>\n",
       "</table>\n",
       "</div>"
      ],
      "text/plain": [
       "Vaccine         Influenza      Tdap\n",
       "Geography Type                     \n",
       "National         0.526316  0.473684\n",
       "States           0.699691  0.300309\n",
       "All              0.692598  0.307402"
      ]
     },
     "execution_count": 41,
     "metadata": {},
     "output_type": "execute_result"
    }
   ],
   "source": [
    "# Two-way table conditional probability\n",
    "pd.crosstab(index=new_data['Geography Type'], columns=new_data['Vaccine'], normalize='index', margins=True)"
   ]
  },
  {
   "cell_type": "code",
   "execution_count": 42,
   "metadata": {},
   "outputs": [
    {
     "data": {
      "text/html": [
       "<div>\n",
       "<style scoped>\n",
       "    .dataframe tbody tr th:only-of-type {\n",
       "        vertical-align: middle;\n",
       "    }\n",
       "\n",
       "    .dataframe tbody tr th {\n",
       "        vertical-align: top;\n",
       "    }\n",
       "\n",
       "    .dataframe thead th {\n",
       "        text-align: right;\n",
       "    }\n",
       "</style>\n",
       "<table border=\"1\" class=\"dataframe\">\n",
       "  <thead>\n",
       "    <tr style=\"text-align: right;\">\n",
       "      <th>Vaccine</th>\n",
       "      <th>Influenza</th>\n",
       "      <th>Tdap</th>\n",
       "      <th>All</th>\n",
       "    </tr>\n",
       "    <tr>\n",
       "      <th>Geography Type</th>\n",
       "      <th></th>\n",
       "      <th></th>\n",
       "      <th></th>\n",
       "    </tr>\n",
       "  </thead>\n",
       "  <tbody>\n",
       "    <tr>\n",
       "      <th>National</th>\n",
       "      <td>0.031092</td>\n",
       "      <td>0.063047</td>\n",
       "      <td>0.040915</td>\n",
       "    </tr>\n",
       "    <tr>\n",
       "      <th>States</th>\n",
       "      <td>0.968908</td>\n",
       "      <td>0.936953</td>\n",
       "      <td>0.959085</td>\n",
       "    </tr>\n",
       "  </tbody>\n",
       "</table>\n",
       "</div>"
      ],
      "text/plain": [
       "Vaccine         Influenza      Tdap       All\n",
       "Geography Type                               \n",
       "National         0.031092  0.063047  0.040915\n",
       "States           0.968908  0.936953  0.959085"
      ]
     },
     "execution_count": 42,
     "metadata": {},
     "output_type": "execute_result"
    }
   ],
   "source": [
    "# Two-way table conditional probability\n",
    "pd.crosstab(index=new_data['Geography Type'], columns=new_data['Vaccine'], normalize='columns', margins=True)"
   ]
  },
  {
   "cell_type": "code",
   "execution_count": 43,
   "metadata": {},
   "outputs": [],
   "source": [
    "num_data = new_data.select_dtypes(exclude=[object])"
   ]
  },
  {
   "cell_type": "code",
   "execution_count": 44,
   "metadata": {},
   "outputs": [
    {
     "data": {
      "text/plain": [
       "Index(['Survey Year/Influenza Season', 'Estimate (%)', 'Sample Size'], dtype='object')"
      ]
     },
     "execution_count": 44,
     "metadata": {},
     "output_type": "execute_result"
    }
   ],
   "source": [
    "num_data.columns"
   ]
  },
  {
   "cell_type": "code",
   "execution_count": 45,
   "metadata": {},
   "outputs": [
    {
     "data": {
      "text/html": [
       "<div>\n",
       "<style scoped>\n",
       "    .dataframe tbody tr th:only-of-type {\n",
       "        vertical-align: middle;\n",
       "    }\n",
       "\n",
       "    .dataframe tbody tr th {\n",
       "        vertical-align: top;\n",
       "    }\n",
       "\n",
       "    .dataframe thead th {\n",
       "        text-align: right;\n",
       "    }\n",
       "</style>\n",
       "<table border=\"1\" class=\"dataframe\">\n",
       "  <thead>\n",
       "    <tr style=\"text-align: right;\">\n",
       "      <th></th>\n",
       "      <th>Survey Year/Influenza Season</th>\n",
       "      <th>Estimate (%)</th>\n",
       "      <th>Sample Size</th>\n",
       "    </tr>\n",
       "  </thead>\n",
       "  <tbody>\n",
       "    <tr>\n",
       "      <th>Survey Year/Influenza Season</th>\n",
       "      <td>1.00000</td>\n",
       "      <td>0.534680</td>\n",
       "      <td>-0.013620</td>\n",
       "    </tr>\n",
       "    <tr>\n",
       "      <th>Estimate (%)</th>\n",
       "      <td>0.53468</td>\n",
       "      <td>1.000000</td>\n",
       "      <td>-0.019988</td>\n",
       "    </tr>\n",
       "    <tr>\n",
       "      <th>Sample Size</th>\n",
       "      <td>-0.01362</td>\n",
       "      <td>-0.019988</td>\n",
       "      <td>1.000000</td>\n",
       "    </tr>\n",
       "  </tbody>\n",
       "</table>\n",
       "</div>"
      ],
      "text/plain": [
       "                              Survey Year/Influenza Season  Estimate (%)  \\\n",
       "Survey Year/Influenza Season                       1.00000      0.534680   \n",
       "Estimate (%)                                       0.53468      1.000000   \n",
       "Sample Size                                       -0.01362     -0.019988   \n",
       "\n",
       "                              Sample Size  \n",
       "Survey Year/Influenza Season    -0.013620  \n",
       "Estimate (%)                    -0.019988  \n",
       "Sample Size                      1.000000  "
      ]
     },
     "execution_count": 45,
     "metadata": {},
     "output_type": "execute_result"
    }
   ],
   "source": [
    "# correlation matrix\n",
    "corr_data = num_data.corr()\n",
    "corr_data"
   ]
  },
  {
   "cell_type": "markdown",
   "metadata": {},
   "source": [
    "#### Additional Tasks"
   ]
  },
  {
   "cell_type": "code",
   "execution_count": 51,
   "metadata": {},
   "outputs": [
    {
     "data": {
      "text/plain": [
       "0.31221625194292413"
      ]
     },
     "execution_count": 51,
     "metadata": {},
     "output_type": "execute_result"
    }
   ],
   "source": [
    "# kurtosis\n",
    "kurt_data = new_data['Estimate (%)'].kurt(axis=0)\n",
    "kurt_data"
   ]
  },
  {
   "cell_type": "code",
   "execution_count": 63,
   "metadata": {},
   "outputs": [
    {
     "data": {
      "text/plain": [
       "9.487462004182909"
      ]
     },
     "execution_count": 63,
     "metadata": {},
     "output_type": "execute_result"
    }
   ],
   "source": [
    "# Skewness of the data\n",
    "skew_data = new_data['Sample Size'].skew(axis=0)\n",
    "skew_data"
   ]
  },
  {
   "cell_type": "code",
   "execution_count": 54,
   "metadata": {},
   "outputs": [
    {
     "data": {
      "text/html": [
       "<div>\n",
       "<style scoped>\n",
       "    .dataframe tbody tr th:only-of-type {\n",
       "        vertical-align: middle;\n",
       "    }\n",
       "\n",
       "    .dataframe tbody tr th {\n",
       "        vertical-align: top;\n",
       "    }\n",
       "\n",
       "    .dataframe thead th {\n",
       "        text-align: right;\n",
       "    }\n",
       "</style>\n",
       "<table border=\"1\" class=\"dataframe\">\n",
       "  <thead>\n",
       "    <tr style=\"text-align: right;\">\n",
       "      <th></th>\n",
       "      <th>Survey Year/Influenza Season</th>\n",
       "      <th>Estimate (%)</th>\n",
       "      <th>Sample Size</th>\n",
       "    </tr>\n",
       "  </thead>\n",
       "  <tbody>\n",
       "    <tr>\n",
       "      <th>count</th>\n",
       "      <td>3715.000000</td>\n",
       "      <td>3715.000000</td>\n",
       "      <td>3715.000000</td>\n",
       "    </tr>\n",
       "    <tr>\n",
       "      <th>mean</th>\n",
       "      <td>2016.241184</td>\n",
       "      <td>61.275074</td>\n",
       "      <td>849.202153</td>\n",
       "    </tr>\n",
       "    <tr>\n",
       "      <th>std</th>\n",
       "      <td>2.648391</td>\n",
       "      <td>15.169773</td>\n",
       "      <td>2728.862515</td>\n",
       "    </tr>\n",
       "    <tr>\n",
       "      <th>min</th>\n",
       "      <td>2012.000000</td>\n",
       "      <td>5.200000</td>\n",
       "      <td>32.000000</td>\n",
       "    </tr>\n",
       "    <tr>\n",
       "      <th>25%</th>\n",
       "      <td>2014.000000</td>\n",
       "      <td>52.000000</td>\n",
       "      <td>191.000000</td>\n",
       "    </tr>\n",
       "    <tr>\n",
       "      <th>50%</th>\n",
       "      <td>2017.000000</td>\n",
       "      <td>62.700000</td>\n",
       "      <td>346.000000</td>\n",
       "    </tr>\n",
       "    <tr>\n",
       "      <th>75%</th>\n",
       "      <td>2019.000000</td>\n",
       "      <td>72.100000</td>\n",
       "      <td>685.500000</td>\n",
       "    </tr>\n",
       "    <tr>\n",
       "      <th>max</th>\n",
       "      <td>2020.000000</td>\n",
       "      <td>98.200000</td>\n",
       "      <td>43737.000000</td>\n",
       "    </tr>\n",
       "  </tbody>\n",
       "</table>\n",
       "</div>"
      ],
      "text/plain": [
       "       Survey Year/Influenza Season  Estimate (%)   Sample Size\n",
       "count                   3715.000000   3715.000000   3715.000000\n",
       "mean                    2016.241184     61.275074    849.202153\n",
       "std                        2.648391     15.169773   2728.862515\n",
       "min                     2012.000000      5.200000     32.000000\n",
       "25%                     2014.000000     52.000000    191.000000\n",
       "50%                     2017.000000     62.700000    346.000000\n",
       "75%                     2019.000000     72.100000    685.500000\n",
       "max                     2020.000000     98.200000  43737.000000"
      ]
     },
     "execution_count": 54,
     "metadata": {},
     "output_type": "execute_result"
    }
   ],
   "source": [
    "new_data.describe()"
   ]
  },
  {
   "cell_type": "markdown",
   "metadata": {},
   "source": [
    "0 quartile = 0 quantile = 0 percentile\n",
    "\n",
    "1 quartile = 0.25 quantile = 25 percentile\n",
    "\n",
    "2 quartile = .5 quantile = 50 percentile (median)\n",
    "\n",
    "3 quartile = .75 quantile = 75 percentile\n",
    "\n",
    "4 quartile = 1 quantile = 100 percentile\n",
    "\n",
    "---\n",
    "\n",
    "Percentiles go from 0 to 100.\n",
    "\n",
    "Quartiles go from 1 to 4(or 0 to 4).\n",
    "\n",
    "Quantiles can go from anything to anything.\n",
    "\n",
    "Percentiles and quartiles are examples of quantiles."
   ]
  },
  {
   "cell_type": "code",
   "execution_count": 56,
   "metadata": {},
   "outputs": [
    {
     "name": "stderr",
     "output_type": "stream",
     "text": [
      "/var/folders/nd/q79n0hd51vqcq6swmwgkc95w0000gn/T/ipykernel_57145/957225423.py:1: FutureWarning: The default value of numeric_only in DataFrame.quantile is deprecated. In a future version, it will default to False. Select only valid columns or specify the value of numeric_only to silence this warning.\n",
      "  new_data.quantile(1)\n"
     ]
    },
    {
     "data": {
      "text/plain": [
       "Survey Year/Influenza Season     2020.0\n",
       "Estimate (%)                       98.2\n",
       "Sample Size                     43737.0\n",
       "Name: 1.0, dtype: float64"
      ]
     },
     "execution_count": 56,
     "metadata": {},
     "output_type": "execute_result"
    }
   ],
   "source": [
    "# Quartile\n",
    "new_data.quantile(1) "
   ]
  },
  {
   "cell_type": "code",
   "execution_count": 73,
   "metadata": {},
   "outputs": [
    {
     "name": "stderr",
     "output_type": "stream",
     "text": [
      "/var/folders/nd/q79n0hd51vqcq6swmwgkc95w0000gn/T/ipykernel_57145/2618097402.py:2: FutureWarning: The default value of numeric_only in DataFrame.quantile is deprecated. In a future version, it will default to False. Select only valid columns or specify the value of numeric_only to silence this warning.\n",
      "  new_data.quantile(0.75)\n"
     ]
    },
    {
     "data": {
      "text/plain": [
       "Survey Year/Influenza Season    2019.0\n",
       "Estimate (%)                      72.1\n",
       "Sample Size                      685.5\n",
       "Name: 0.75, dtype: float64"
      ]
     },
     "execution_count": 73,
     "metadata": {},
     "output_type": "execute_result"
    }
   ],
   "source": [
    "# Percentile\n",
    "new_data.quantile(0.75)"
   ]
  },
  {
   "cell_type": "code",
   "execution_count": 72,
   "metadata": {},
   "outputs": [
    {
     "data": {
      "text/plain": [
       "685.5"
      ]
     },
     "execution_count": 72,
     "metadata": {},
     "output_type": "execute_result"
    }
   ],
   "source": [
    "np.percentile(new_data['Sample Size'], 75)"
   ]
  },
  {
   "cell_type": "code",
   "execution_count": 62,
   "metadata": {},
   "outputs": [
    {
     "name": "stderr",
     "output_type": "stream",
     "text": [
      "/var/folders/nd/q79n0hd51vqcq6swmwgkc95w0000gn/T/ipykernel_57145/3307333788.py:2: FutureWarning: The default value of numeric_only in DataFrame.quantile is deprecated. In a future version, it will default to False. Select only valid columns or specify the value of numeric_only to silence this warning.\n",
      "  new_data.quantile()\n"
     ]
    },
    {
     "data": {
      "text/plain": [
       "Survey Year/Influenza Season    2017.0\n",
       "Estimate (%)                      62.7\n",
       "Sample Size                      346.0\n",
       "Name: 0.5, dtype: float64"
      ]
     },
     "execution_count": 62,
     "metadata": {},
     "output_type": "execute_result"
    }
   ],
   "source": [
    "# Quantile\n",
    "new_data.quantile()"
   ]
  }
 ],
 "metadata": {
  "kernelspec": {
   "display_name": "Python 3 (ipykernel)",
   "language": "python",
   "name": "python3"
  },
  "language_info": {
   "codemirror_mode": {
    "name": "ipython",
    "version": 3
   },
   "file_extension": ".py",
   "mimetype": "text/x-python",
   "name": "python",
   "nbconvert_exporter": "python",
   "pygments_lexer": "ipython3",
   "version": "3.10.6"
  },
  "vscode": {
   "interpreter": {
    "hash": "f866dd45c9636e021a252738ab3d056019b9855a78678edaf693f213bc9b2f94"
   }
  }
 },
 "nbformat": 4,
 "nbformat_minor": 4
}
